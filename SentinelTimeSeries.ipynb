{
  "nbformat": 4,
  "nbformat_minor": 0,
  "metadata": {
    "colab": {
      "provenance": [],
      "authorship_tag": "ABX9TyMMxue/VEJ9yzjX3oyqpZU4",
      "include_colab_link": true
    },
    "kernelspec": {
      "name": "python3",
      "display_name": "Python 3"
    },
    "language_info": {
      "name": "python"
    }
  },
  "cells": [
    {
      "cell_type": "markdown",
      "metadata": {
        "id": "view-in-github",
        "colab_type": "text"
      },
      "source": [
        "<a href=\"https://colab.research.google.com/github/Faareh-Ahmed/Download_Satellite_Imagery/blob/main/SentinelTimeSeries.ipynb\" target=\"_parent\"><img src=\"https://colab.research.google.com/assets/colab-badge.svg\" alt=\"Open In Colab\"/></a>"
      ]
    },
    {
      "cell_type": "code",
      "execution_count": 1,
      "metadata": {
        "colab": {
          "base_uri": "https://localhost:8080/"
        },
        "id": "m9TMPuVOE1F5",
        "outputId": "2a960e34-c5f8-40bb-9b9c-01ec55026139"
      },
      "outputs": [
        {
          "output_type": "stream",
          "name": "stdout",
          "text": [
            "Collecting sentinelhub\n",
            "  Downloading sentinelhub-3.11.1-py3-none-any.whl.metadata (10 kB)\n",
            "Collecting aenum>=2.1.4 (from sentinelhub)\n",
            "  Downloading aenum-3.1.15-py3-none-any.whl.metadata (3.7 kB)\n",
            "Requirement already satisfied: click in /usr/local/lib/python3.10/dist-packages (from sentinelhub) (8.1.7)\n",
            "Collecting dataclasses-json (from sentinelhub)\n",
            "  Downloading dataclasses_json-0.6.7-py3-none-any.whl.metadata (25 kB)\n",
            "Requirement already satisfied: numpy in /usr/local/lib/python3.10/dist-packages (from sentinelhub) (1.26.4)\n",
            "Requirement already satisfied: oauthlib in /usr/local/lib/python3.10/dist-packages (from sentinelhub) (3.2.2)\n",
            "Requirement already satisfied: pillow>=9.2.0 in /usr/local/lib/python3.10/dist-packages (from sentinelhub) (10.4.0)\n",
            "Requirement already satisfied: pyproj>=2.2.0 in /usr/local/lib/python3.10/dist-packages (from sentinelhub) (3.7.0)\n",
            "Requirement already satisfied: python-dateutil in /usr/local/lib/python3.10/dist-packages (from sentinelhub) (2.8.2)\n",
            "Requirement already satisfied: requests-oauthlib>=1.0.0 in /usr/local/lib/python3.10/dist-packages (from sentinelhub) (1.3.1)\n",
            "Requirement already satisfied: requests>=2.27.0 in /usr/local/lib/python3.10/dist-packages (from sentinelhub) (2.32.3)\n",
            "Requirement already satisfied: shapely in /usr/local/lib/python3.10/dist-packages (from sentinelhub) (2.0.6)\n",
            "Requirement already satisfied: tifffile>=2020.9.30 in /usr/local/lib/python3.10/dist-packages (from sentinelhub) (2024.9.20)\n",
            "Requirement already satisfied: tomli in /usr/local/lib/python3.10/dist-packages (from sentinelhub) (2.0.2)\n",
            "Collecting tomli-w (from sentinelhub)\n",
            "  Downloading tomli_w-1.1.0-py3-none-any.whl.metadata (5.7 kB)\n",
            "Requirement already satisfied: tqdm in /usr/local/lib/python3.10/dist-packages (from sentinelhub) (4.66.5)\n",
            "Requirement already satisfied: typing-extensions>=4.5.0 in /usr/local/lib/python3.10/dist-packages (from sentinelhub) (4.12.2)\n",
            "Collecting utm (from sentinelhub)\n",
            "  Downloading utm-0.7.0.tar.gz (8.7 kB)\n",
            "  Preparing metadata (setup.py) ... \u001b[?25l\u001b[?25hdone\n",
            "Requirement already satisfied: certifi in /usr/local/lib/python3.10/dist-packages (from pyproj>=2.2.0->sentinelhub) (2024.8.30)\n",
            "Requirement already satisfied: charset-normalizer<4,>=2 in /usr/local/lib/python3.10/dist-packages (from requests>=2.27.0->sentinelhub) (3.4.0)\n",
            "Requirement already satisfied: idna<4,>=2.5 in /usr/local/lib/python3.10/dist-packages (from requests>=2.27.0->sentinelhub) (3.10)\n",
            "Requirement already satisfied: urllib3<3,>=1.21.1 in /usr/local/lib/python3.10/dist-packages (from requests>=2.27.0->sentinelhub) (2.2.3)\n",
            "Collecting marshmallow<4.0.0,>=3.18.0 (from dataclasses-json->sentinelhub)\n",
            "  Downloading marshmallow-3.22.0-py3-none-any.whl.metadata (7.2 kB)\n",
            "Collecting typing-inspect<1,>=0.4.0 (from dataclasses-json->sentinelhub)\n",
            "  Downloading typing_inspect-0.9.0-py3-none-any.whl.metadata (1.5 kB)\n",
            "Requirement already satisfied: six>=1.5 in /usr/local/lib/python3.10/dist-packages (from python-dateutil->sentinelhub) (1.16.0)\n",
            "Requirement already satisfied: packaging>=17.0 in /usr/local/lib/python3.10/dist-packages (from marshmallow<4.0.0,>=3.18.0->dataclasses-json->sentinelhub) (24.1)\n",
            "Collecting mypy-extensions>=0.3.0 (from typing-inspect<1,>=0.4.0->dataclasses-json->sentinelhub)\n",
            "  Downloading mypy_extensions-1.0.0-py3-none-any.whl.metadata (1.1 kB)\n",
            "Downloading sentinelhub-3.11.1-py3-none-any.whl (249 kB)\n",
            "\u001b[2K   \u001b[90m━━━━━━━━━━━━━━━━━━━━━━━━━━━━━━━━━━━━━━━━\u001b[0m \u001b[32m249.8/249.8 kB\u001b[0m \u001b[31m9.9 MB/s\u001b[0m eta \u001b[36m0:00:00\u001b[0m\n",
            "\u001b[?25hDownloading aenum-3.1.15-py3-none-any.whl (137 kB)\n",
            "\u001b[2K   \u001b[90m━━━━━━━━━━━━━━━━━━━━━━━━━━━━━━━━━━━━━━━━\u001b[0m \u001b[32m137.6/137.6 kB\u001b[0m \u001b[31m10.1 MB/s\u001b[0m eta \u001b[36m0:00:00\u001b[0m\n",
            "\u001b[?25hDownloading dataclasses_json-0.6.7-py3-none-any.whl (28 kB)\n",
            "Downloading tomli_w-1.1.0-py3-none-any.whl (6.4 kB)\n",
            "Downloading marshmallow-3.22.0-py3-none-any.whl (49 kB)\n",
            "\u001b[2K   \u001b[90m━━━━━━━━━━━━━━━━━━━━━━━━━━━━━━━━━━━━━━━━\u001b[0m \u001b[32m49.3/49.3 kB\u001b[0m \u001b[31m2.8 MB/s\u001b[0m eta \u001b[36m0:00:00\u001b[0m\n",
            "\u001b[?25hDownloading typing_inspect-0.9.0-py3-none-any.whl (8.8 kB)\n",
            "Downloading mypy_extensions-1.0.0-py3-none-any.whl (4.7 kB)\n",
            "Building wheels for collected packages: utm\n",
            "  Building wheel for utm (setup.py) ... \u001b[?25l\u001b[?25hdone\n",
            "  Created wheel for utm: filename=utm-0.7.0-py3-none-any.whl size=6085 sha256=6c33380c53f8a606ff4088fe894747fccfc575771ce777818174ef7eeafbe482\n",
            "  Stored in directory: /root/.cache/pip/wheels/2f/a1/c8/543df0e8f5e824c3e92a432e32deb9cd89ae686095ee8cfcbe\n",
            "Successfully built utm\n",
            "Installing collected packages: utm, aenum, tomli-w, mypy-extensions, marshmallow, typing-inspect, dataclasses-json, sentinelhub\n",
            "Successfully installed aenum-3.1.15 dataclasses-json-0.6.7 marshmallow-3.22.0 mypy-extensions-1.0.0 sentinelhub-3.11.1 tomli-w-1.1.0 typing-inspect-0.9.0 utm-0.7.0\n"
          ]
        }
      ],
      "source": [
        "pip install sentinelhub\n"
      ]
    },
    {
      "cell_type": "markdown",
      "source": [
        "# Downloading Sentinel Timeseries"
      ],
      "metadata": {
        "id": "Z4g4GGaNNC8S"
      }
    },
    {
      "cell_type": "code",
      "source": [
        "\n",
        "CLIENT_ID = 'b88bf46a-f979-4fd1-90d2-9f182a9fefdb'\n",
        "CLIENT_SECRET = 'eeNwFVeuG4CQwaKhkyhyijijWKuRlqog'"
      ],
      "metadata": {
        "id": "ZkOuTe7fFDZw"
      },
      "execution_count": 2,
      "outputs": []
    },
    {
      "cell_type": "code",
      "source": [
        "from sentinelhub import SHConfig\n",
        "\n",
        "config = SHConfig()\n",
        "\n",
        "config.sh_client_id = CLIENT_ID\n",
        "config.sh_client_secret = CLIENT_SECRET\n",
        "\n",
        "if not config.sh_client_id or not config.sh_client_secret:\n",
        "  print('Please provide credentials to use Process API.')"
      ],
      "metadata": {
        "id": "xDirprWFFGAh"
      },
      "execution_count": 3,
      "outputs": []
    },
    {
      "cell_type": "code",
      "source": [
        "from sentinelhub import (\n",
        "    CRS,\n",
        "    BBox,\n",
        "    DataCollection,\n",
        "    DownloadRequest,\n",
        "    MimeType,\n",
        "    MosaickingOrder,\n",
        "    SentinelHubDownloadClient,\n",
        "    SentinelHubRequest,\n",
        "    bbox_to_dimensions,\n",
        ")\n"
      ],
      "metadata": {
        "id": "4i6xiVY4FJRV"
      },
      "execution_count": 4,
      "outputs": []
    },
    {
      "cell_type": "code",
      "source": [
        "\n",
        "coords = (73.027177, 33.685496, 73.083129, 33.731193)\n",
        "\n",
        "resolution = 10\n",
        "\n",
        "bbox = BBox(bbox=coords, crs=CRS.WGS84)\n",
        "image_size = bbox_to_dimensions(bbox, resolution=resolution)\n",
        "\n",
        "print(f'Image shape at {resolution} m resolution: {image_size}')"
      ],
      "metadata": {
        "colab": {
          "base_uri": "https://localhost:8080/"
        },
        "id": "9gfPG1kAFKCw",
        "outputId": "353f90e4-1080-4c98-b237-aa76cd5bcb8d"
      },
      "execution_count": 5,
      "outputs": [
        {
          "output_type": "stream",
          "name": "stdout",
          "text": [
            "Image shape at 10 m resolution: (528, 497)\n"
          ]
        }
      ]
    },
    {
      "cell_type": "code",
      "source": [
        "import datetime\n",
        "\n",
        "start = datetime.datetime(2018, 1, 1)\n",
        "end = datetime.datetime(2024, 12, 31)\n",
        "n_chunks = 150 #no of images to download\n",
        "tdelta = (end - start) / n_chunks\n",
        "edges = [(start + i * tdelta).date().isoformat() for i in range(n_chunks)]\n",
        "slots = [(edges[i], edges[i + 1]) for i in range(len(edges) - 1)]\n",
        "\n",
        "print(\"Monthly time windows:\\n\")\n",
        "for slot in slots:\n",
        "    print(slot)"
      ],
      "metadata": {
        "colab": {
          "base_uri": "https://localhost:8080/"
        },
        "id": "XwVtZBIpFQ13",
        "outputId": "c303544b-7290-49bd-fbc4-30139caf774b"
      },
      "execution_count": 25,
      "outputs": [
        {
          "output_type": "stream",
          "name": "stdout",
          "text": [
            "Monthly time windows:\n",
            "\n",
            "('2018-01-01', '2018-01-18')\n",
            "('2018-01-18', '2018-02-04')\n",
            "('2018-02-04', '2018-02-21')\n",
            "('2018-02-21', '2018-03-10')\n",
            "('2018-03-10', '2018-03-27')\n",
            "('2018-03-27', '2018-04-13')\n",
            "('2018-04-13', '2018-04-30')\n",
            "('2018-04-30', '2018-05-17')\n",
            "('2018-05-17', '2018-06-03')\n",
            "('2018-06-03', '2018-06-20')\n",
            "('2018-06-20', '2018-07-07')\n",
            "('2018-07-07', '2018-07-24')\n",
            "('2018-07-24', '2018-08-10')\n",
            "('2018-08-10', '2018-08-27')\n",
            "('2018-08-27', '2018-09-13')\n",
            "('2018-09-13', '2018-09-30')\n",
            "('2018-09-30', '2018-10-17')\n",
            "('2018-10-17', '2018-11-03')\n",
            "('2018-11-03', '2018-11-20')\n",
            "('2018-11-20', '2018-12-07')\n",
            "('2018-12-07', '2018-12-24')\n",
            "('2018-12-24', '2019-01-10')\n",
            "('2019-01-10', '2019-01-27')\n",
            "('2019-01-27', '2019-02-13')\n",
            "('2019-02-13', '2019-03-03')\n",
            "('2019-03-03', '2019-03-20')\n",
            "('2019-03-20', '2019-04-06')\n",
            "('2019-04-06', '2019-04-23')\n",
            "('2019-04-23', '2019-05-10')\n",
            "('2019-05-10', '2019-05-27')\n",
            "('2019-05-27', '2019-06-13')\n",
            "('2019-06-13', '2019-06-30')\n",
            "('2019-06-30', '2019-07-17')\n",
            "('2019-07-17', '2019-08-03')\n",
            "('2019-08-03', '2019-08-20')\n",
            "('2019-08-20', '2019-09-06')\n",
            "('2019-09-06', '2019-09-23')\n",
            "('2019-09-23', '2019-10-10')\n",
            "('2019-10-10', '2019-10-27')\n",
            "('2019-10-27', '2019-11-13')\n",
            "('2019-11-13', '2019-11-30')\n",
            "('2019-11-30', '2019-12-17')\n",
            "('2019-12-17', '2020-01-03')\n",
            "('2020-01-03', '2020-01-20')\n",
            "('2020-01-20', '2020-02-06')\n",
            "('2020-02-06', '2020-02-23')\n",
            "('2020-02-23', '2020-03-11')\n",
            "('2020-03-11', '2020-03-28')\n",
            "('2020-03-28', '2020-04-14')\n",
            "('2020-04-14', '2020-05-02')\n",
            "('2020-05-02', '2020-05-19')\n",
            "('2020-05-19', '2020-06-05')\n",
            "('2020-06-05', '2020-06-22')\n",
            "('2020-06-22', '2020-07-09')\n",
            "('2020-07-09', '2020-07-26')\n",
            "('2020-07-26', '2020-08-12')\n",
            "('2020-08-12', '2020-08-29')\n",
            "('2020-08-29', '2020-09-15')\n",
            "('2020-09-15', '2020-10-02')\n",
            "('2020-10-02', '2020-10-19')\n",
            "('2020-10-19', '2020-11-05')\n",
            "('2020-11-05', '2020-11-22')\n",
            "('2020-11-22', '2020-12-09')\n",
            "('2020-12-09', '2020-12-26')\n",
            "('2020-12-26', '2021-01-12')\n",
            "('2021-01-12', '2021-01-29')\n",
            "('2021-01-29', '2021-02-15')\n",
            "('2021-02-15', '2021-03-04')\n",
            "('2021-03-04', '2021-03-21')\n",
            "('2021-03-21', '2021-04-07')\n",
            "('2021-04-07', '2021-04-24')\n",
            "('2021-04-24', '2021-05-11')\n",
            "('2021-05-11', '2021-05-28')\n",
            "('2021-05-28', '2021-06-14')\n",
            "('2021-06-14', '2021-07-02')\n",
            "('2021-07-02', '2021-07-19')\n",
            "('2021-07-19', '2021-08-05')\n",
            "('2021-08-05', '2021-08-22')\n",
            "('2021-08-22', '2021-09-08')\n",
            "('2021-09-08', '2021-09-25')\n",
            "('2021-09-25', '2021-10-12')\n",
            "('2021-10-12', '2021-10-29')\n",
            "('2021-10-29', '2021-11-15')\n",
            "('2021-11-15', '2021-12-02')\n",
            "('2021-12-02', '2021-12-19')\n",
            "('2021-12-19', '2022-01-05')\n",
            "('2022-01-05', '2022-01-22')\n",
            "('2022-01-22', '2022-02-08')\n",
            "('2022-02-08', '2022-02-25')\n",
            "('2022-02-25', '2022-03-14')\n",
            "('2022-03-14', '2022-03-31')\n",
            "('2022-03-31', '2022-04-17')\n",
            "('2022-04-17', '2022-05-04')\n",
            "('2022-05-04', '2022-05-21')\n",
            "('2022-05-21', '2022-06-07')\n",
            "('2022-06-07', '2022-06-24')\n",
            "('2022-06-24', '2022-07-11')\n",
            "('2022-07-11', '2022-07-28')\n",
            "('2022-07-28', '2022-08-14')\n",
            "('2022-08-14', '2022-09-01')\n",
            "('2022-09-01', '2022-09-18')\n",
            "('2022-09-18', '2022-10-05')\n",
            "('2022-10-05', '2022-10-22')\n",
            "('2022-10-22', '2022-11-08')\n",
            "('2022-11-08', '2022-11-25')\n",
            "('2022-11-25', '2022-12-12')\n",
            "('2022-12-12', '2022-12-29')\n",
            "('2022-12-29', '2023-01-15')\n",
            "('2023-01-15', '2023-02-01')\n",
            "('2023-02-01', '2023-02-18')\n",
            "('2023-02-18', '2023-03-07')\n",
            "('2023-03-07', '2023-03-24')\n",
            "('2023-03-24', '2023-04-10')\n",
            "('2023-04-10', '2023-04-27')\n",
            "('2023-04-27', '2023-05-14')\n",
            "('2023-05-14', '2023-05-31')\n",
            "('2023-05-31', '2023-06-17')\n",
            "('2023-06-17', '2023-07-04')\n",
            "('2023-07-04', '2023-07-21')\n",
            "('2023-07-21', '2023-08-07')\n",
            "('2023-08-07', '2023-08-24')\n",
            "('2023-08-24', '2023-09-10')\n",
            "('2023-09-10', '2023-09-27')\n",
            "('2023-09-27', '2023-10-14')\n",
            "('2023-10-14', '2023-11-01')\n",
            "('2023-11-01', '2023-11-18')\n",
            "('2023-11-18', '2023-12-05')\n",
            "('2023-12-05', '2023-12-22')\n",
            "('2023-12-22', '2024-01-08')\n",
            "('2024-01-08', '2024-01-25')\n",
            "('2024-01-25', '2024-02-11')\n",
            "('2024-02-11', '2024-02-28')\n",
            "('2024-02-28', '2024-03-16')\n",
            "('2024-03-16', '2024-04-02')\n",
            "('2024-04-02', '2024-04-19')\n",
            "('2024-04-19', '2024-05-06')\n",
            "('2024-05-06', '2024-05-23')\n",
            "('2024-05-23', '2024-06-09')\n",
            "('2024-06-09', '2024-06-26')\n",
            "('2024-06-26', '2024-07-13')\n",
            "('2024-07-13', '2024-07-30')\n",
            "('2024-07-30', '2024-08-16')\n",
            "('2024-08-16', '2024-09-02')\n",
            "('2024-09-02', '2024-09-19')\n",
            "('2024-09-19', '2024-10-06')\n",
            "('2024-10-06', '2024-10-23')\n",
            "('2024-10-23', '2024-11-09')\n",
            "('2024-11-09', '2024-11-26')\n",
            "('2024-11-26', '2024-12-13')\n"
          ]
        }
      ]
    },
    {
      "cell_type": "code",
      "source": [
        "evalscript = \"\"\"\n",
        "//VERSION=3\n",
        "\n",
        "function setup() {\n",
        "  return {\n",
        "    input: [\"B02\", \"B03\", \"B04\"],\n",
        "    output: { bands: 3 }\n",
        "  };\n",
        "}\n",
        "\n",
        "function evaluatePixel(sample) {\n",
        "  return [2.5 * sample.B04, 2.5 * sample.B03, 2.5 * sample.B02];\n",
        "}\n",
        "\"\"\"\n",
        "\n",
        "def get_true_color_request(time_interval):\n",
        "    return SentinelHubRequest(\n",
        "    evalscript=evalscript,\n",
        "    input_data=[\n",
        "        SentinelHubRequest.input_data(\n",
        "            data_collection=DataCollection.SENTINEL2_L2A,\n",
        "            time_interval=('2020-11-11', '2024-10-15'),\n",
        "            other_args={\"dataFilter\": {\"mosaickingOrder\": \"leastCC\"}}\n",
        "        ),\n",
        "    ],\n",
        "    responses=[\n",
        "        SentinelHubRequest.output_response('default', MimeType.TIFF),\n",
        "    ],\n",
        "    bbox=bbox,\n",
        "    size=image_size,\n",
        "    config=config\n",
        ")"
      ],
      "metadata": {
        "id": "g79p1DFeF6kJ"
      },
      "execution_count": 26,
      "outputs": []
    },
    {
      "cell_type": "code",
      "source": [
        "# create a list of requests\n",
        "list_of_requests = [get_true_color_request(slot) for slot in slots]\n",
        "list_of_requests = [request.download_list[0] for request in list_of_requests]\n",
        "\n",
        "# download data with multiple threads\n",
        "data = SentinelHubDownloadClient(config=config).download(list_of_requests, max_threads=5)"
      ],
      "metadata": {
        "id": "IMiANQTWGk0G"
      },
      "execution_count": 27,
      "outputs": []
    },
    {
      "cell_type": "code",
      "source": [
        "# Step 1: Mount your Google Drive\n",
        "from google.colab import drive\n",
        "drive.mount('/content/drive')\n"
      ],
      "metadata": {
        "colab": {
          "base_uri": "https://localhost:8080/"
        },
        "id": "bxYy5kPVJp0f",
        "outputId": "fd8f89ca-9e86-4739-d9cf-88de70a17fcd"
      },
      "execution_count": 20,
      "outputs": [
        {
          "output_type": "stream",
          "name": "stdout",
          "text": [
            "Mounted at /content/drive\n"
          ]
        }
      ]
    },
    {
      "cell_type": "code",
      "source": [
        "output_folder = '/content/drive/MyDrive/sentinelhub_Sentinel2_l2a/'\n",
        "import os\n",
        "if not os.path.exists(output_folder):\n",
        "    os.makedirs(output_folder)"
      ],
      "metadata": {
        "id": "MirHD4f9J2bn"
      },
      "execution_count": 28,
      "outputs": []
    },
    {
      "cell_type": "code",
      "source": [
        "import matplotlib.pyplot as plt\n",
        "import numpy as np\n",
        "\n",
        "# some stuff for pretty plots\n",
        "# ncols = 5\n",
        "# nrows = 10\n",
        "# aspect_ratio = image_size[0] / image_size[1]\n",
        "# subplot_kw = {\"xticks\": [], \"yticks\": [], \"frame_on\": False}\n",
        "\n",
        "# fig, axs = plt.subplots(ncols=ncols, nrows=nrows, figsize=(5 * ncols * aspect_ratio, 5 * nrows), subplot_kw=subplot_kw)\n",
        "\n",
        "for idx, image in enumerate(data):\n",
        "    # ax = axs[idx // ncols][idx % ncols]\n",
        "    # ax.imshow(np.clip(image * 2.5 / 255, 0, 1))\n",
        "    # ax.set_title(f\"{slots[idx][0]}  -  {slots[idx][1]}\", fontsize=10)\n",
        "\n",
        "    # Save each individual image to the specified Google Drive folder\n",
        "    image_filename = f\"{output_folder}image_{idx+1}_{slots[idx][0]}_to_{slots[idx][1]}.png\"\n",
        "    plt.imsave(image_filename, np.clip(image * 2.5 / 255, 0, 1))\n",
        "\n",
        "# plt.tight_layout()"
      ],
      "metadata": {
        "id": "heEHLxNqGxPM"
      },
      "execution_count": 29,
      "outputs": []
    },
    {
      "cell_type": "markdown",
      "source": [
        "# Downloading LadSat TimeSeries"
      ],
      "metadata": {
        "id": "GH3eIWsPM9Ou"
      }
    },
    {
      "cell_type": "code",
      "source": [
        "\n",
        "coords = (73.027177, 33.685496, 73.083129, 33.731193)\n",
        "\n",
        "resolution = 30\n",
        "\n",
        "bbox = BBox(bbox=coords, crs=CRS.WGS84)\n",
        "image_size = bbox_to_dimensions(bbox, resolution=resolution)\n",
        "\n",
        "print(f'Image shape at {resolution} m resolution: {image_size}')"
      ],
      "metadata": {
        "colab": {
          "base_uri": "https://localhost:8080/"
        },
        "id": "LuFrQ_saNzue",
        "outputId": "6e94b9e8-79cb-467e-e79a-219a00aa7f36"
      },
      "execution_count": 49,
      "outputs": [
        {
          "output_type": "stream",
          "name": "stdout",
          "text": [
            "Image shape at 30 m resolution: (176, 166)\n"
          ]
        }
      ]
    },
    {
      "cell_type": "code",
      "source": [
        "import datetime\n",
        "\n",
        "start = datetime.datetime(2018, 1, 1)\n",
        "end = datetime.datetime(2024, 12, 31)\n",
        "n_chunks = 150 #no of images to download\n",
        "tdelta = (end - start) / n_chunks\n",
        "edges = [(start + i * tdelta).date().isoformat() for i in range(n_chunks)]\n",
        "slots = [(edges[i], edges[i + 1]) for i in range(len(edges) - 1)]\n",
        "\n",
        "print(\"Monthly time windows:\\n\")\n",
        "for slot in slots:\n",
        "    print(slot)"
      ],
      "metadata": {
        "colab": {
          "base_uri": "https://localhost:8080/"
        },
        "id": "VqcmhENAN8nW",
        "outputId": "7c0fae91-d827-41ec-ec67-5dddde43ff45"
      },
      "execution_count": 50,
      "outputs": [
        {
          "output_type": "stream",
          "name": "stdout",
          "text": [
            "Monthly time windows:\n",
            "\n",
            "('2018-01-01', '2018-01-18')\n",
            "('2018-01-18', '2018-02-04')\n",
            "('2018-02-04', '2018-02-21')\n",
            "('2018-02-21', '2018-03-10')\n",
            "('2018-03-10', '2018-03-27')\n",
            "('2018-03-27', '2018-04-13')\n",
            "('2018-04-13', '2018-04-30')\n",
            "('2018-04-30', '2018-05-17')\n",
            "('2018-05-17', '2018-06-03')\n",
            "('2018-06-03', '2018-06-20')\n",
            "('2018-06-20', '2018-07-07')\n",
            "('2018-07-07', '2018-07-24')\n",
            "('2018-07-24', '2018-08-10')\n",
            "('2018-08-10', '2018-08-27')\n",
            "('2018-08-27', '2018-09-13')\n",
            "('2018-09-13', '2018-09-30')\n",
            "('2018-09-30', '2018-10-17')\n",
            "('2018-10-17', '2018-11-03')\n",
            "('2018-11-03', '2018-11-20')\n",
            "('2018-11-20', '2018-12-07')\n",
            "('2018-12-07', '2018-12-24')\n",
            "('2018-12-24', '2019-01-10')\n",
            "('2019-01-10', '2019-01-27')\n",
            "('2019-01-27', '2019-02-13')\n",
            "('2019-02-13', '2019-03-03')\n",
            "('2019-03-03', '2019-03-20')\n",
            "('2019-03-20', '2019-04-06')\n",
            "('2019-04-06', '2019-04-23')\n",
            "('2019-04-23', '2019-05-10')\n",
            "('2019-05-10', '2019-05-27')\n",
            "('2019-05-27', '2019-06-13')\n",
            "('2019-06-13', '2019-06-30')\n",
            "('2019-06-30', '2019-07-17')\n",
            "('2019-07-17', '2019-08-03')\n",
            "('2019-08-03', '2019-08-20')\n",
            "('2019-08-20', '2019-09-06')\n",
            "('2019-09-06', '2019-09-23')\n",
            "('2019-09-23', '2019-10-10')\n",
            "('2019-10-10', '2019-10-27')\n",
            "('2019-10-27', '2019-11-13')\n",
            "('2019-11-13', '2019-11-30')\n",
            "('2019-11-30', '2019-12-17')\n",
            "('2019-12-17', '2020-01-03')\n",
            "('2020-01-03', '2020-01-20')\n",
            "('2020-01-20', '2020-02-06')\n",
            "('2020-02-06', '2020-02-23')\n",
            "('2020-02-23', '2020-03-11')\n",
            "('2020-03-11', '2020-03-28')\n",
            "('2020-03-28', '2020-04-14')\n",
            "('2020-04-14', '2020-05-02')\n",
            "('2020-05-02', '2020-05-19')\n",
            "('2020-05-19', '2020-06-05')\n",
            "('2020-06-05', '2020-06-22')\n",
            "('2020-06-22', '2020-07-09')\n",
            "('2020-07-09', '2020-07-26')\n",
            "('2020-07-26', '2020-08-12')\n",
            "('2020-08-12', '2020-08-29')\n",
            "('2020-08-29', '2020-09-15')\n",
            "('2020-09-15', '2020-10-02')\n",
            "('2020-10-02', '2020-10-19')\n",
            "('2020-10-19', '2020-11-05')\n",
            "('2020-11-05', '2020-11-22')\n",
            "('2020-11-22', '2020-12-09')\n",
            "('2020-12-09', '2020-12-26')\n",
            "('2020-12-26', '2021-01-12')\n",
            "('2021-01-12', '2021-01-29')\n",
            "('2021-01-29', '2021-02-15')\n",
            "('2021-02-15', '2021-03-04')\n",
            "('2021-03-04', '2021-03-21')\n",
            "('2021-03-21', '2021-04-07')\n",
            "('2021-04-07', '2021-04-24')\n",
            "('2021-04-24', '2021-05-11')\n",
            "('2021-05-11', '2021-05-28')\n",
            "('2021-05-28', '2021-06-14')\n",
            "('2021-06-14', '2021-07-02')\n",
            "('2021-07-02', '2021-07-19')\n",
            "('2021-07-19', '2021-08-05')\n",
            "('2021-08-05', '2021-08-22')\n",
            "('2021-08-22', '2021-09-08')\n",
            "('2021-09-08', '2021-09-25')\n",
            "('2021-09-25', '2021-10-12')\n",
            "('2021-10-12', '2021-10-29')\n",
            "('2021-10-29', '2021-11-15')\n",
            "('2021-11-15', '2021-12-02')\n",
            "('2021-12-02', '2021-12-19')\n",
            "('2021-12-19', '2022-01-05')\n",
            "('2022-01-05', '2022-01-22')\n",
            "('2022-01-22', '2022-02-08')\n",
            "('2022-02-08', '2022-02-25')\n",
            "('2022-02-25', '2022-03-14')\n",
            "('2022-03-14', '2022-03-31')\n",
            "('2022-03-31', '2022-04-17')\n",
            "('2022-04-17', '2022-05-04')\n",
            "('2022-05-04', '2022-05-21')\n",
            "('2022-05-21', '2022-06-07')\n",
            "('2022-06-07', '2022-06-24')\n",
            "('2022-06-24', '2022-07-11')\n",
            "('2022-07-11', '2022-07-28')\n",
            "('2022-07-28', '2022-08-14')\n",
            "('2022-08-14', '2022-09-01')\n",
            "('2022-09-01', '2022-09-18')\n",
            "('2022-09-18', '2022-10-05')\n",
            "('2022-10-05', '2022-10-22')\n",
            "('2022-10-22', '2022-11-08')\n",
            "('2022-11-08', '2022-11-25')\n",
            "('2022-11-25', '2022-12-12')\n",
            "('2022-12-12', '2022-12-29')\n",
            "('2022-12-29', '2023-01-15')\n",
            "('2023-01-15', '2023-02-01')\n",
            "('2023-02-01', '2023-02-18')\n",
            "('2023-02-18', '2023-03-07')\n",
            "('2023-03-07', '2023-03-24')\n",
            "('2023-03-24', '2023-04-10')\n",
            "('2023-04-10', '2023-04-27')\n",
            "('2023-04-27', '2023-05-14')\n",
            "('2023-05-14', '2023-05-31')\n",
            "('2023-05-31', '2023-06-17')\n",
            "('2023-06-17', '2023-07-04')\n",
            "('2023-07-04', '2023-07-21')\n",
            "('2023-07-21', '2023-08-07')\n",
            "('2023-08-07', '2023-08-24')\n",
            "('2023-08-24', '2023-09-10')\n",
            "('2023-09-10', '2023-09-27')\n",
            "('2023-09-27', '2023-10-14')\n",
            "('2023-10-14', '2023-11-01')\n",
            "('2023-11-01', '2023-11-18')\n",
            "('2023-11-18', '2023-12-05')\n",
            "('2023-12-05', '2023-12-22')\n",
            "('2023-12-22', '2024-01-08')\n",
            "('2024-01-08', '2024-01-25')\n",
            "('2024-01-25', '2024-02-11')\n",
            "('2024-02-11', '2024-02-28')\n",
            "('2024-02-28', '2024-03-16')\n",
            "('2024-03-16', '2024-04-02')\n",
            "('2024-04-02', '2024-04-19')\n",
            "('2024-04-19', '2024-05-06')\n",
            "('2024-05-06', '2024-05-23')\n",
            "('2024-05-23', '2024-06-09')\n",
            "('2024-06-09', '2024-06-26')\n",
            "('2024-06-26', '2024-07-13')\n",
            "('2024-07-13', '2024-07-30')\n",
            "('2024-07-30', '2024-08-16')\n",
            "('2024-08-16', '2024-09-02')\n",
            "('2024-09-02', '2024-09-19')\n",
            "('2024-09-19', '2024-10-06')\n",
            "('2024-10-06', '2024-10-23')\n",
            "('2024-10-23', '2024-11-09')\n",
            "('2024-11-09', '2024-11-26')\n",
            "('2024-11-26', '2024-12-13')\n"
          ]
        }
      ]
    },
    {
      "cell_type": "code",
      "source": [
        "evalscript = \"\"\"\n",
        "//VERSION=3\n",
        "\n",
        "function setup() {\n",
        "  return {\n",
        "    input: [\"B02\", \"B03\", \"B04\"],\n",
        "    output: { bands: 3 }\n",
        "  };\n",
        "}\n",
        "\n",
        "function evaluatePixel(sample) {\n",
        "  return [2.5 * sample.B04, 2.5 * sample.B03, 2.5 * sample.B02];\n",
        "}\n",
        "\"\"\"\n",
        "\n",
        "def get_true_color_request(time_interval):\n",
        "    return SentinelHubRequest(\n",
        "    evalscript=evalscript,\n",
        "    input_data=[\n",
        "        SentinelHubRequest.input_data(\n",
        "            data_collection=DataCollection.LANDSAT_OT_L1,\n",
        "            time_interval=('2020-11-11', '2024-10-15'),\n",
        "            other_args={\"dataFilter\": {\"mosaickingOrder\": \"leastCC\"}}\n",
        "        ),\n",
        "    ],\n",
        "    responses=[\n",
        "        SentinelHubRequest.output_response('default', MimeType.TIFF),\n",
        "    ],\n",
        "    bbox=bbox,\n",
        "    size=image_size,\n",
        "    config=config\n",
        ")"
      ],
      "metadata": {
        "id": "v200eOLmOCCG"
      },
      "execution_count": 51,
      "outputs": []
    },
    {
      "cell_type": "code",
      "source": [
        "# create a list of requests\n",
        "list_of_requests = [get_true_color_request(slot) for slot in slots]\n",
        "list_of_requests = [request.download_list[0] for request in list_of_requests]\n",
        "\n",
        "# download data with multiple threads\n",
        "data = SentinelHubDownloadClient(config=config).download(list_of_requests, max_threads=5)"
      ],
      "metadata": {
        "id": "WkVcnxmPOW7c"
      },
      "execution_count": 52,
      "outputs": []
    },
    {
      "cell_type": "code",
      "source": [
        "output_folder = '/content/drive/MyDrive/sentinelhub_Landsat_ot11/'\n",
        "import os\n",
        "if not os.path.exists(output_folder):\n",
        "    os.makedirs(output_folder)"
      ],
      "metadata": {
        "id": "0pdD8EivOcPH"
      },
      "execution_count": 53,
      "outputs": []
    },
    {
      "cell_type": "code",
      "source": [
        "import matplotlib.pyplot as plt\n",
        "import numpy as np\n",
        "\n",
        "# some stuff for pretty plots\n",
        "# ncols = 5\n",
        "# nrows = 10\n",
        "# aspect_ratio = image_size[0] / image_size[1]\n",
        "# subplot_kw = {\"xticks\": [], \"yticks\": [], \"frame_on\": False}\n",
        "\n",
        "# fig, axs = plt.subplots(ncols=ncols, nrows=nrows, figsize=(5 * ncols * aspect_ratio, 5 * nrows), subplot_kw=subplot_kw)\n",
        "\n",
        "for idx, image in enumerate(data):\n",
        "    # ax = axs[idx // ncols][idx % ncols]\n",
        "    # ax.imshow(np.clip(image * 2.5 / 255, 0, 1))\n",
        "    # ax.set_title(f\"{slots[idx][0]}  -  {slots[idx][1]}\", fontsize=10)\n",
        "\n",
        "    # Save each individual image to the specified Google Drive folder\n",
        "    image_filename = f\"{output_folder}image_{idx+1}_{slots[idx][0]}_to_{slots[idx][1]}.png\"\n",
        "    plt.imsave(image_filename, np.clip(image * 2.5 / 255, 0, 1))\n",
        "\n",
        "# plt.tight_layout()"
      ],
      "metadata": {
        "id": "vn3VrHOuOl2V"
      },
      "execution_count": 54,
      "outputs": []
    }
  ]
}